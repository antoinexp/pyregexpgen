{
 "cells": [
  {
   "cell_type": "code",
   "execution_count": 2,
   "metadata": {
    "collapsed": true
   },
   "outputs": [],
   "source": [
    "s = \"http://www.[a-z]{1}[a-z]{0,10}.(com|ch)/\\d{0,10}\""
   ]
  },
  {
   "cell_type": "code",
   "execution_count": 12,
   "metadata": {
    "collapsed": true
   },
   "outputs": [],
   "source": [
    "def genChar(x,y):\n",
    "    l = []\n",
    "    k = ord(x)\n",
    "    while k<=ord(y):\n",
    "        l.append(chr(k))\n",
    "        k+=1\n",
    "    return l"
   ]
  },
  {
   "cell_type": "code",
   "execution_count": 13,
   "metadata": {
    "collapsed": false
   },
   "outputs": [
    {
     "data": {
      "text/plain": [
       "'xyz'"
      ]
     },
     "execution_count": 13,
     "metadata": {},
     "output_type": "execute_result"
    }
   ],
   "source": [
    "\"\".join(genChar(\"x\",\"z\"))"
   ]
  },
  {
   "cell_type": "code",
   "execution_count": 15,
   "metadata": {
    "collapsed": false
   },
   "outputs": [
    {
     "data": {
      "text/plain": [
       "'123456789'"
      ]
     },
     "execution_count": 15,
     "metadata": {},
     "output_type": "execute_result"
    }
   ],
   "source": [
    "\"\".join(genChar(\"1\",\"9\"))"
   ]
  },
  {
   "cell_type": "code",
   "execution_count": 56,
   "metadata": {
    "collapsed": false
   },
   "outputs": [],
   "source": [
    "alpha = \"abcdefghijklmnopqrstuvwxyz\"\n",
    "num = \"0123456789\"\n",
    "\n",
    "def parseSet(s, offset):\n",
    "    k = offset\n",
    "    l = set()\n",
    "    if len(s)==0: \n",
    "        raise Exception(\"empty set at offset\", offset)\n",
    "    # if s[offset]==\"^\" not handled\n",
    "    while k<len(s) and s[k]!=\"]\":\n",
    "        if k+2<len(s) and s[k+1]==\"-\":\n",
    "            l.update(genChar(s[k],s[k+2]))\n",
    "            k+=3\n",
    "        else:\n",
    "            l.update(s[k])\n",
    "            k+=1\n",
    "    return list(l),k"
   ]
  },
  {
   "cell_type": "code",
   "execution_count": 57,
   "metadata": {
    "collapsed": false
   },
   "outputs": [
    {
     "data": {
      "text/plain": [
       "'ixwngtp6cd32r4hk7qyaum5bfosevz89lj'"
      ]
     },
     "execution_count": 57,
     "metadata": {},
     "output_type": "execute_result"
    }
   ],
   "source": [
    "\"\".join(list((lambda x:x[0])(parseSet(\"a-z2-9\",0))))"
   ]
  },
  {
   "cell_type": "code",
   "execution_count": 49,
   "metadata": {
    "collapsed": true
   },
   "outputs": [],
   "source": [
    "from random import randint"
   ]
  },
  {
   "cell_type": "code",
   "execution_count": 58,
   "metadata": {
    "collapsed": true
   },
   "outputs": [],
   "source": [
    "def pickInSet(l):\n",
    "    def tmp():\n",
    "        return l[randint(0,len(l)-1)]\n",
    "    return tmp"
   ]
  },
  {
   "cell_type": "code",
   "execution_count": 67,
   "metadata": {
    "collapsed": false
   },
   "outputs": [],
   "source": [
    "def parse(s,offset):\n",
    "    l = []\n",
    "    k = offset\n",
    "    while k<len(s) and s[k]!=\")\":\n",
    "        if s[k]==\"(\":\n",
    "            pass\n",
    "        elif s[k]==\"\\\\\":\n",
    "            pass\n",
    "        elif s[k]==\"[\":\n",
    "            l[-1].append(s[:k])\n",
    "            lset,k = parseSet(s, k+1)\n",
    "            l.append(pickInSet(lset))\n",
    "        elif s[k]==\"|\":\n",
    "            pass\n",
    "        k += 1\n",
    "    def builder():\n",
    "        for i,x in enumerate(l):\n",
    "            if type(x)!=type(\"\"):\n",
    "                l[i] = x()\n",
    "        return \"\".join(l)\n",
    "    return builder"
   ]
  },
  {
   "cell_type": "code",
   "execution_count": 69,
   "metadata": {
    "collapsed": false
   },
   "outputs": [
    {
     "data": {
      "text/plain": [
       "''"
      ]
     },
     "execution_count": 69,
     "metadata": {},
     "output_type": "execute_result"
    }
   ],
   "source": [
    "parse(\"aa\", 0)()"
   ]
  },
  {
   "cell_type": "code",
   "execution_count": null,
   "metadata": {
    "collapsed": true
   },
   "outputs": [],
   "source": []
  }
 ],
 "metadata": {
  "kernelspec": {
   "display_name": "Python 3",
   "language": "python",
   "name": "python3"
  },
  "language_info": {
   "codemirror_mode": {
    "name": "ipython",
    "version": 3
   },
   "file_extension": ".py",
   "mimetype": "text/x-python",
   "name": "python",
   "nbconvert_exporter": "python",
   "pygments_lexer": "ipython3",
   "version": "3.6.2"
  }
 },
 "nbformat": 4,
 "nbformat_minor": 2
}
